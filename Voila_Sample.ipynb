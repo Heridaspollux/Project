{
 "cells": [
  {
   "cell_type": "code",
   "execution_count": 2,
   "id": "7935f332",
   "metadata": {},
   "outputs": [
    {
     "data": {
      "application/vnd.jupyter.widget-view+json": {
       "model_id": "b77b456c994248f0ae24beea8eefb1c3",
       "version_major": 2,
       "version_minor": 0
      },
      "text/plain": [
       "Text(value='', description='Enter your name:')"
      ]
     },
     "metadata": {},
     "output_type": "display_data"
    },
    {
     "data": {
      "application/vnd.jupyter.widget-view+json": {
       "model_id": "366104c0bf044e55b68a4604f01d9ab8",
       "version_major": 2,
       "version_minor": 0
      },
      "text/plain": [
       "Button(description='Greet', style=ButtonStyle())"
      ]
     },
     "metadata": {},
     "output_type": "display_data"
    }
   ],
   "source": [
    "import ipywidgets as widgets\n",
    "from IPython.display import display\n",
    "\n",
    "# Create a widget\n",
    "text_widget = widgets.Text(description='Enter your name:')\n",
    "button_widget = widgets.Button(description='Greet')\n",
    "\n",
    "# Define a callback function for the button click event\n",
    "def greet_button_clicked(b):\n",
    "    name = text_widget.value\n",
    "    print(f\"Hello, {name}!\")\n",
    "\n",
    "# Register the callback function to the button click event\n",
    "button_widget.on_click(greet_button_clicked)\n",
    "\n",
    "# Display the widgets\n",
    "display(text_widget, button_widget)"
   ]
  },
  {
   "cell_type": "code",
   "execution_count": null,
   "id": "92446537",
   "metadata": {},
   "outputs": [],
   "source": []
  }
 ],
 "metadata": {
  "kernelspec": {
   "display_name": "Python 3 (ipykernel)",
   "language": "python",
   "name": "python3"
  },
  "language_info": {
   "codemirror_mode": {
    "name": "ipython",
    "version": 3
   },
   "file_extension": ".py",
   "mimetype": "text/x-python",
   "name": "python",
   "nbconvert_exporter": "python",
   "pygments_lexer": "ipython3",
   "version": "3.9.5"
  }
 },
 "nbformat": 4,
 "nbformat_minor": 5
}
