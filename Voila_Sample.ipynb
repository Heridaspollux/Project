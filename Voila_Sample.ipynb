{
 "cells": [
  {
   "cell_type": "code",
   "execution_count": 1,
   "id": "7935f332",
   "metadata": {},
   "outputs": [
    {
     "data": {
      "application/vnd.jupyter.widget-view+json": {
       "model_id": "711edfec7a91474bb9dfd4694e101898",
       "version_major": 2,
       "version_minor": 0
      },
      "text/plain": [
       "Text(value='', description='Enter your name:')"
      ]
     },
     "metadata": {},
     "output_type": "display_data"
    },
    {
     "data": {
      "application/vnd.jupyter.widget-view+json": {
       "model_id": "db6edb3e455845be88e7521f8dbe79da",
       "version_major": 2,
       "version_minor": 0
      },
      "text/plain": [
       "Button(description='Greet', style=ButtonStyle())"
      ]
     },
     "metadata": {},
     "output_type": "display_data"
    }
   ],
   "source": [
    "import ipywidgets as widgets\n",
    "\n",
    "# Create a widget\n",
    "text_widget = widgets.Text(description='Enter your name:')\n",
    "button_widget = widgets.Button(description='Greet')\n",
    "\n",
    "# Define a callback function for the button click event\n",
    "def greet_button_clicked(b):\n",
    "    name = text_widget.value\n",
    "    print(f\"Hello, {name}!\")\n",
    "\n",
    "# Register the callback function to the button click event\n",
    "button_widget.on_click(greet_button_clicked)\n",
    "\n",
    "# Display the widgets\n",
    "display(text_widget, button_widget)"
   ]
  },
  {
   "cell_type": "code",
   "execution_count": 2,
   "id": "8e2a992f",
   "metadata": {},
   "outputs": [],
   "source": [
    "import os\n",
    "from voila import *\n",
    "from flask import Flask, request, render_template\n",
    "from werkzeug.utils import secure_filename\n",
    "\n",
    "app = Flask(__name__)\n",
    "\n",
    "# Configure the upload folder and allowed file extensions\n",
    "UPLOAD_FOLDER = 'uploads'\n",
    "ALLOWED_EXTENSIONS = {'ipynb'}\n",
    "\n",
    "# Set the upload folder for Flask app\n",
    "app.config['UPLOAD_FOLDER'] = UPLOAD_FOLDER\n",
    "\n",
    "\n",
    "# Function to check if the file has an allowed extension\n",
    "def allowed_file(filename):\n",
    "    return '.' in filename and filename.rsplit('.', 1)[1].lower() in ALLOWED_EXTENSIONS\n",
    "\n",
    "\n",
    "# Route for the main page\n",
    "@app.route('/', methods=['GET', 'POST'])\n",
    "def home():\n",
    "    if request.method == 'POST':\n",
    "        # Check if a file was uploaded\n",
    "        if 'file' not in request.files:\n",
    "            return render_template('home.html', error='No file uploaded')\n",
    "\n",
    "        file = request.files['file']\n",
    "\n",
    "        # Check if a file was selected\n",
    "        if file.filename == '':\n",
    "            return render_template('home.html', error='No file selected')\n",
    "\n",
    "        # Check if the file has an allowed extension\n",
    "        if not allowed_file(file.filename):\n",
    "            return render_template('home.html', error='Invalid file format. Only .ipynb files are allowed.')\n",
    "\n",
    "        # Save the file to the upload folder\n",
    "        filename = secure_filename(file.filename)\n",
    "        file.save(os.path.join(app.config['UPLOAD_FOLDER'], filename))\n",
    "\n",
    "        # Redirect to the Voilà app for the uploaded notebook\n",
    "        return Voila.show_notebook(f'uploads/{filename}')\n",
    "\n"
   ]
  },
  {
   "cell_type": "code",
   "execution_count": 3,
   "id": "d282943f",
   "metadata": {},
   "outputs": [
    {
     "name": "stdout",
     "output_type": "stream",
     "text": [
      " * Serving Flask app '__main__' (lazy loading)\n",
      " * Environment: production\n",
      "\u001b[31m   WARNING: This is a development server. Do not use it in a production deployment.\u001b[0m\n",
      "\u001b[2m   Use a production WSGI server instead.\u001b[0m\n",
      " * Debug mode: on\n"
     ]
    },
    {
     "name": "stderr",
     "output_type": "stream",
     "text": [
      " * Running on http://127.0.0.1:5000 (Press CTRL+C to quit)\n",
      " * Restarting with stat\n",
      "Traceback (most recent call last):\n",
      "  File \"/home/hd/.local/lib/python3.9/site-packages/ipykernel_launcher.py\", line 15, in <module>\n",
      "    from ipykernel import kernelapp as app\n",
      "  File \"/home/hd/.local/lib/python3.9/site-packages/ipykernel/kernelapp.py\", line 18, in <module>\n",
      "    from IPython.core.application import (\n",
      "  File \"/home/hd/.local/lib/python3.9/site-packages/IPython/__init__.py\", line 52, in <module>\n",
      "    from .terminal.embed import embed\n",
      "  File \"/home/hd/.local/lib/python3.9/site-packages/IPython/terminal/embed.py\", line 17, in <module>\n",
      "    from IPython.terminal.ipapp import load_default_config\n",
      "  File \"/home/hd/.local/lib/python3.9/site-packages/IPython/terminal/ipapp.py\", line 29, in <module>\n",
      "    from IPython.core.magics import (\n",
      "  File \"/home/hd/.local/lib/python3.9/site-packages/IPython/core/magics/__init__.py\", line 21, in <module>\n",
      "    from .execution import ExecutionMagics\n",
      "  File \"/home/hd/.local/lib/python3.9/site-packages/IPython/core/magics/execution.py\", line 16, in <module>\n",
      "    import pstats\n",
      "  File \"/usr/lib/python3.9/pstats.py\", line 58, in <module>\n",
      "    class FunctionProfile:\n",
      "  File \"/home/hd/.local/lib/python3.9/site-packages/dataclasses.py\", line 950, in wrap\n",
      "    return _process_class(cls, init, repr, eq, order, unsafe_hash, frozen)\n",
      "  File \"/home/hd/.local/lib/python3.9/site-packages/dataclasses.py\", line 800, in _process_class\n",
      "    cls_fields = [_get_field(cls, name, type)\n",
      "  File \"/home/hd/.local/lib/python3.9/site-packages/dataclasses.py\", line 800, in <listcomp>\n",
      "    cls_fields = [_get_field(cls, name, type)\n",
      "  File \"/home/hd/.local/lib/python3.9/site-packages/dataclasses.py\", line 659, in _get_field\n",
      "    if (_is_classvar(a_type, typing)\n",
      "  File \"/home/hd/.local/lib/python3.9/site-packages/dataclasses.py\", line 550, in _is_classvar\n",
      "    return type(a_type) is typing._ClassVar\n",
      "AttributeError: module 'typing' has no attribute '_ClassVar'\n"
     ]
    },
    {
     "ename": "SystemExit",
     "evalue": "1",
     "output_type": "error",
     "traceback": [
      "An exception has occurred, use %tb to see the full traceback.\n",
      "\u001b[0;31mSystemExit\u001b[0m\u001b[0;31m:\u001b[0m 1\n"
     ]
    },
    {
     "name": "stderr",
     "output_type": "stream",
     "text": [
      "/home/hd/.local/lib/python3.9/site-packages/IPython/core/interactiveshell.py:3377: UserWarning: To exit: use 'exit', 'quit', or Ctrl-D.\n",
      "  warn(\"To exit: use 'exit', 'quit', or Ctrl-D.\", stacklevel=1)\n"
     ]
    }
   ],
   "source": [
    "import os\n",
    "from flask import Flask, render_template, request, redirect, url_for\n",
    "from werkzeug.utils import secure_filename\n",
    "from subprocess import Popen, PIPE\n",
    "\n",
    "app = Flask(__name__)\n",
    "UPLOAD_FOLDER = 'uploads'\n",
    "ALLOWED_EXTENSIONS = {'ipynb'}\n",
    "\n",
    "app.config['UPLOAD_FOLDER'] = UPLOAD_FOLDER\n",
    "\n",
    "def allowed_file(filename):\n",
    "    return '.' in filename and filename.rsplit('.', 1)[1].lower() in ALLOWED_EXTENSIONS\n",
    "\n",
    "@app.route('/', methods=['GET', 'POST'])\n",
    "def upload_file():\n",
    "    if request.method == 'POST':\n",
    "        # Check if the post request has the file part\n",
    "        if 'file' not in request.files:\n",
    "            return redirect(request.url)\n",
    "        file = request.files['file']\n",
    "        # If the user does not select a file, the browser submits an empty file\n",
    "        if file.filename == '':\n",
    "            return redirect(request.url)\n",
    "        if file and allowed_file(file.filename):\n",
    "            filename = secure_filename(file.filename)\n",
    "            file.save(os.path.join(app.config['UPLOAD_FOLDER'], filename))\n",
    "            p = Popen(['voila', f\"uploads/{filename}\"], stdout=PIPE, stderr=PIPE)\n",
    "            p.wait()\n",
    "            return p.stdout.read().decode('utf-8')\n",
    "    return render_template('index.html')\n",
    "\n",
    "if __name__ == '__main__':\n",
    "    app.run(debug=True)\n"
   ]
  },
  {
   "cell_type": "code",
   "execution_count": null,
   "id": "92446537",
   "metadata": {},
   "outputs": [],
   "source": []
  }
 ],
 "metadata": {
  "kernelspec": {
   "display_name": "Python 3 (ipykernel)",
   "language": "python",
   "name": "python3"
  },
  "language_info": {
   "codemirror_mode": {
    "name": "ipython",
    "version": 3
   },
   "file_extension": ".py",
   "mimetype": "text/x-python",
   "name": "python",
   "nbconvert_exporter": "python",
   "pygments_lexer": "ipython3",
   "version": "3.9.5"
  }
 },
 "nbformat": 4,
 "nbformat_minor": 5
}
