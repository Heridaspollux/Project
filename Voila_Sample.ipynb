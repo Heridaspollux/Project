{
 "cells": [
  {
   "cell_type": "code",
   "execution_count": 1,
   "id": "7935f332",
   "metadata": {},
   "outputs": [
    {
     "data": {
      "application/vnd.jupyter.widget-view+json": {
       "model_id": "0166775ca4bd492e9dc7ef1146661a53",
       "version_major": 2,
       "version_minor": 0
      },
      "text/plain": [
       "Text(value='', description='Enter your name:')"
      ]
     },
     "metadata": {},
     "output_type": "display_data"
    },
    {
     "data": {
      "application/vnd.jupyter.widget-view+json": {
       "model_id": "2af56d30ac3d4823af8d0ee4707db630",
       "version_major": 2,
       "version_minor": 0
      },
      "text/plain": [
       "Button(description='Greet', style=ButtonStyle())"
      ]
     },
     "metadata": {},
     "output_type": "display_data"
    }
   ],
   "source": [
    "import ipywidgets as widgets\n",
    "\n",
    "# Create a widget\n",
    "text_widget = widgets.Text(description='Enter your name:')\n",
    "button_widget = widgets.Button(description='Greet')\n",
    "\n",
    "# Define a callback function for the button click event\n",
    "def greet_button_clicked(b):\n",
    "    name = text_widget.value\n",
    "    print(f\"Hello, {name}!\")\n",
    "\n",
    "# Register the callback function to the button click event\n",
    "button_widget.on_click(greet_button_clicked)\n",
    "\n",
    "# Display the widgets\n",
    "display(text_widget, button_widget)"
   ]
  },
  {
   "cell_type": "code",
   "execution_count": null,
   "id": "92446537",
   "metadata": {},
   "outputs": [],
   "source": []
  }
 ],
 "metadata": {
  "kernelspec": {
   "display_name": "Python 3 (ipykernel)",
   "language": "python",
   "name": "python3"
  },
  "language_info": {
   "codemirror_mode": {
    "name": "ipython",
    "version": 3
   },
   "file_extension": ".py",
   "mimetype": "text/x-python",
   "name": "python",
   "nbconvert_exporter": "python",
   "pygments_lexer": "ipython3",
   "version": "3.9.5"
  }
 },
 "nbformat": 4,
 "nbformat_minor": 5
}
